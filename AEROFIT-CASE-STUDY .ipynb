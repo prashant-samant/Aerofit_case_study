{
 "cells": [
  {
   "cell_type": "markdown",
   "id": "df1b262f",
   "metadata": {},
   "source": [
    "# Business Case: Aerofit - Descriptive Statistics & Probability\n",
    "\n",
    "Aerofit is a leading brand in the field of fitness equipment. Aerofit provides a product range including machines such as treadmills, exercise bikes, gym equipment, and fitness accessories to cater to the needs of all categories of people."
   ]
  },
  {
   "cell_type": "markdown",
   "id": "2f4661dd",
   "metadata": {},
   "source": [
    "# PROBLEM STATEMENT\n",
    "\n",
    "The market research team at AeroFit wants to identify the characteristics of the target audience for each type of treadmill offered by the company, to provide a better recommendation of the treadmills to the new customers. The team decides to investigate whether there are differences across the product with respect to customer characteristics.\n",
    "\n",
    "1 . Perform descriptive analytics to create a customer profile for each AeroFit treadmill product by developing appropriate tables and charts.\n",
    "2 . For each AeroFit treadmill product, construct two-way contingency tables and compute all conditional and marginal probabilities along with their insights/impact on the business."
   ]
  },
  {
   "cell_type": "markdown",
   "id": "3b292bfb",
   "metadata": {},
   "source": [
    "# Import important python libraries for analysis "
   ]
  },
  {
   "cell_type": "code",
   "execution_count": 1,
   "id": "0db8b859",
   "metadata": {},
   "outputs": [],
   "source": [
    "import numpy as np   #for numbers \n",
    "import pandas as pd   # for dataframe and loading of data \n",
    "import matplotlib.pyplot as plt # for visualization \n",
    "import seaborn as sns # for statistical visualization "
   ]
  },
  {
   "cell_type": "code",
   "execution_count": 2,
   "id": "cecacf0a",
   "metadata": {},
   "outputs": [
    {
     "data": {
      "text/html": [
       "<div>\n",
       "<style scoped>\n",
       "    .dataframe tbody tr th:only-of-type {\n",
       "        vertical-align: middle;\n",
       "    }\n",
       "\n",
       "    .dataframe tbody tr th {\n",
       "        vertical-align: top;\n",
       "    }\n",
       "\n",
       "    .dataframe thead th {\n",
       "        text-align: right;\n",
       "    }\n",
       "</style>\n",
       "<table border=\"1\" class=\"dataframe\">\n",
       "  <thead>\n",
       "    <tr style=\"text-align: right;\">\n",
       "      <th></th>\n",
       "      <th>Product</th>\n",
       "      <th>Age</th>\n",
       "      <th>Gender</th>\n",
       "      <th>Education</th>\n",
       "      <th>MaritalStatus</th>\n",
       "      <th>Usage</th>\n",
       "      <th>Fitness</th>\n",
       "      <th>Income</th>\n",
       "      <th>Miles</th>\n",
       "    </tr>\n",
       "  </thead>\n",
       "  <tbody>\n",
       "    <tr>\n",
       "      <th>0</th>\n",
       "      <td>KP281</td>\n",
       "      <td>18</td>\n",
       "      <td>Male</td>\n",
       "      <td>14</td>\n",
       "      <td>Single</td>\n",
       "      <td>3</td>\n",
       "      <td>4</td>\n",
       "      <td>29562</td>\n",
       "      <td>112</td>\n",
       "    </tr>\n",
       "    <tr>\n",
       "      <th>1</th>\n",
       "      <td>KP281</td>\n",
       "      <td>19</td>\n",
       "      <td>Male</td>\n",
       "      <td>15</td>\n",
       "      <td>Single</td>\n",
       "      <td>2</td>\n",
       "      <td>3</td>\n",
       "      <td>31836</td>\n",
       "      <td>75</td>\n",
       "    </tr>\n",
       "    <tr>\n",
       "      <th>2</th>\n",
       "      <td>KP281</td>\n",
       "      <td>19</td>\n",
       "      <td>Female</td>\n",
       "      <td>14</td>\n",
       "      <td>Partnered</td>\n",
       "      <td>4</td>\n",
       "      <td>3</td>\n",
       "      <td>30699</td>\n",
       "      <td>66</td>\n",
       "    </tr>\n",
       "    <tr>\n",
       "      <th>3</th>\n",
       "      <td>KP281</td>\n",
       "      <td>19</td>\n",
       "      <td>Male</td>\n",
       "      <td>12</td>\n",
       "      <td>Single</td>\n",
       "      <td>3</td>\n",
       "      <td>3</td>\n",
       "      <td>32973</td>\n",
       "      <td>85</td>\n",
       "    </tr>\n",
       "    <tr>\n",
       "      <th>4</th>\n",
       "      <td>KP281</td>\n",
       "      <td>20</td>\n",
       "      <td>Male</td>\n",
       "      <td>13</td>\n",
       "      <td>Partnered</td>\n",
       "      <td>4</td>\n",
       "      <td>2</td>\n",
       "      <td>35247</td>\n",
       "      <td>47</td>\n",
       "    </tr>\n",
       "    <tr>\n",
       "      <th>...</th>\n",
       "      <td>...</td>\n",
       "      <td>...</td>\n",
       "      <td>...</td>\n",
       "      <td>...</td>\n",
       "      <td>...</td>\n",
       "      <td>...</td>\n",
       "      <td>...</td>\n",
       "      <td>...</td>\n",
       "      <td>...</td>\n",
       "    </tr>\n",
       "    <tr>\n",
       "      <th>175</th>\n",
       "      <td>KP781</td>\n",
       "      <td>40</td>\n",
       "      <td>Male</td>\n",
       "      <td>21</td>\n",
       "      <td>Single</td>\n",
       "      <td>6</td>\n",
       "      <td>5</td>\n",
       "      <td>83416</td>\n",
       "      <td>200</td>\n",
       "    </tr>\n",
       "    <tr>\n",
       "      <th>176</th>\n",
       "      <td>KP781</td>\n",
       "      <td>42</td>\n",
       "      <td>Male</td>\n",
       "      <td>18</td>\n",
       "      <td>Single</td>\n",
       "      <td>5</td>\n",
       "      <td>4</td>\n",
       "      <td>89641</td>\n",
       "      <td>200</td>\n",
       "    </tr>\n",
       "    <tr>\n",
       "      <th>177</th>\n",
       "      <td>KP781</td>\n",
       "      <td>45</td>\n",
       "      <td>Male</td>\n",
       "      <td>16</td>\n",
       "      <td>Single</td>\n",
       "      <td>5</td>\n",
       "      <td>5</td>\n",
       "      <td>90886</td>\n",
       "      <td>160</td>\n",
       "    </tr>\n",
       "    <tr>\n",
       "      <th>178</th>\n",
       "      <td>KP781</td>\n",
       "      <td>47</td>\n",
       "      <td>Male</td>\n",
       "      <td>18</td>\n",
       "      <td>Partnered</td>\n",
       "      <td>4</td>\n",
       "      <td>5</td>\n",
       "      <td>104581</td>\n",
       "      <td>120</td>\n",
       "    </tr>\n",
       "    <tr>\n",
       "      <th>179</th>\n",
       "      <td>KP781</td>\n",
       "      <td>48</td>\n",
       "      <td>Male</td>\n",
       "      <td>18</td>\n",
       "      <td>Partnered</td>\n",
       "      <td>4</td>\n",
       "      <td>5</td>\n",
       "      <td>95508</td>\n",
       "      <td>180</td>\n",
       "    </tr>\n",
       "  </tbody>\n",
       "</table>\n",
       "<p>180 rows × 9 columns</p>\n",
       "</div>"
      ],
      "text/plain": [
       "    Product  Age  Gender  Education MaritalStatus  Usage  Fitness  Income  \\\n",
       "0     KP281   18    Male         14        Single      3        4   29562   \n",
       "1     KP281   19    Male         15        Single      2        3   31836   \n",
       "2     KP281   19  Female         14     Partnered      4        3   30699   \n",
       "3     KP281   19    Male         12        Single      3        3   32973   \n",
       "4     KP281   20    Male         13     Partnered      4        2   35247   \n",
       "..      ...  ...     ...        ...           ...    ...      ...     ...   \n",
       "175   KP781   40    Male         21        Single      6        5   83416   \n",
       "176   KP781   42    Male         18        Single      5        4   89641   \n",
       "177   KP781   45    Male         16        Single      5        5   90886   \n",
       "178   KP781   47    Male         18     Partnered      4        5  104581   \n",
       "179   KP781   48    Male         18     Partnered      4        5   95508   \n",
       "\n",
       "     Miles  \n",
       "0      112  \n",
       "1       75  \n",
       "2       66  \n",
       "3       85  \n",
       "4       47  \n",
       "..     ...  \n",
       "175    200  \n",
       "176    200  \n",
       "177    160  \n",
       "178    120  \n",
       "179    180  \n",
       "\n",
       "[180 rows x 9 columns]"
      ]
     },
     "execution_count": 2,
     "metadata": {},
     "output_type": "execute_result"
    }
   ],
   "source": [
    "df = pd.read_csv(\"aerofit_treadmill (1).txt\")\n",
    "df"
   ]
  },
  {
   "cell_type": "markdown",
   "id": "fe31cf92",
   "metadata": {},
   "source": [
    "Lets first explore the data "
   ]
  },
  {
   "cell_type": "code",
   "execution_count": 3,
   "id": "512da8e7",
   "metadata": {},
   "outputs": [
    {
     "data": {
      "text/plain": [
       "(180, 9)"
      ]
     },
     "execution_count": 3,
     "metadata": {},
     "output_type": "execute_result"
    }
   ],
   "source": [
    "df.shape                     # Dataset is very small it has only 180 rows and 9 columns "
   ]
  },
  {
   "cell_type": "code",
   "execution_count": 4,
   "id": "d9b6a9ac",
   "metadata": {},
   "outputs": [
    {
     "name": "stdout",
     "output_type": "stream",
     "text": [
      "<class 'pandas.core.frame.DataFrame'>\n",
      "RangeIndex: 180 entries, 0 to 179\n",
      "Data columns (total 9 columns):\n",
      " #   Column         Non-Null Count  Dtype \n",
      "---  ------         --------------  ----- \n",
      " 0   Product        180 non-null    object\n",
      " 1   Age            180 non-null    int64 \n",
      " 2   Gender         180 non-null    object\n",
      " 3   Education      180 non-null    int64 \n",
      " 4   MaritalStatus  180 non-null    object\n",
      " 5   Usage          180 non-null    int64 \n",
      " 6   Fitness        180 non-null    int64 \n",
      " 7   Income         180 non-null    int64 \n",
      " 8   Miles          180 non-null    int64 \n",
      "dtypes: int64(6), object(3)\n",
      "memory usage: 12.8+ KB\n"
     ]
    }
   ],
   "source": [
    "df.info()"
   ]
  },
  {
   "cell_type": "markdown",
   "id": "f1970484",
   "metadata": {},
   "source": [
    "Lets check if dataset contains any null or nan values? "
   ]
  },
  {
   "cell_type": "code",
   "execution_count": 5,
   "id": "a96f9f18",
   "metadata": {},
   "outputs": [
    {
     "data": {
      "text/html": [
       "<div>\n",
       "<style scoped>\n",
       "    .dataframe tbody tr th:only-of-type {\n",
       "        vertical-align: middle;\n",
       "    }\n",
       "\n",
       "    .dataframe tbody tr th {\n",
       "        vertical-align: top;\n",
       "    }\n",
       "\n",
       "    .dataframe thead th {\n",
       "        text-align: right;\n",
       "    }\n",
       "</style>\n",
       "<table border=\"1\" class=\"dataframe\">\n",
       "  <thead>\n",
       "    <tr style=\"text-align: right;\">\n",
       "      <th></th>\n",
       "      <th>Product</th>\n",
       "      <th>Age</th>\n",
       "      <th>Gender</th>\n",
       "      <th>Education</th>\n",
       "      <th>MaritalStatus</th>\n",
       "      <th>Usage</th>\n",
       "      <th>Fitness</th>\n",
       "      <th>Income</th>\n",
       "      <th>Miles</th>\n",
       "    </tr>\n",
       "  </thead>\n",
       "  <tbody>\n",
       "    <tr>\n",
       "      <th>0</th>\n",
       "      <td>False</td>\n",
       "      <td>False</td>\n",
       "      <td>False</td>\n",
       "      <td>False</td>\n",
       "      <td>False</td>\n",
       "      <td>False</td>\n",
       "      <td>False</td>\n",
       "      <td>False</td>\n",
       "      <td>False</td>\n",
       "    </tr>\n",
       "    <tr>\n",
       "      <th>1</th>\n",
       "      <td>False</td>\n",
       "      <td>False</td>\n",
       "      <td>False</td>\n",
       "      <td>False</td>\n",
       "      <td>False</td>\n",
       "      <td>False</td>\n",
       "      <td>False</td>\n",
       "      <td>False</td>\n",
       "      <td>False</td>\n",
       "    </tr>\n",
       "    <tr>\n",
       "      <th>2</th>\n",
       "      <td>False</td>\n",
       "      <td>False</td>\n",
       "      <td>False</td>\n",
       "      <td>False</td>\n",
       "      <td>False</td>\n",
       "      <td>False</td>\n",
       "      <td>False</td>\n",
       "      <td>False</td>\n",
       "      <td>False</td>\n",
       "    </tr>\n",
       "    <tr>\n",
       "      <th>3</th>\n",
       "      <td>False</td>\n",
       "      <td>False</td>\n",
       "      <td>False</td>\n",
       "      <td>False</td>\n",
       "      <td>False</td>\n",
       "      <td>False</td>\n",
       "      <td>False</td>\n",
       "      <td>False</td>\n",
       "      <td>False</td>\n",
       "    </tr>\n",
       "    <tr>\n",
       "      <th>4</th>\n",
       "      <td>False</td>\n",
       "      <td>False</td>\n",
       "      <td>False</td>\n",
       "      <td>False</td>\n",
       "      <td>False</td>\n",
       "      <td>False</td>\n",
       "      <td>False</td>\n",
       "      <td>False</td>\n",
       "      <td>False</td>\n",
       "    </tr>\n",
       "    <tr>\n",
       "      <th>...</th>\n",
       "      <td>...</td>\n",
       "      <td>...</td>\n",
       "      <td>...</td>\n",
       "      <td>...</td>\n",
       "      <td>...</td>\n",
       "      <td>...</td>\n",
       "      <td>...</td>\n",
       "      <td>...</td>\n",
       "      <td>...</td>\n",
       "    </tr>\n",
       "    <tr>\n",
       "      <th>175</th>\n",
       "      <td>False</td>\n",
       "      <td>False</td>\n",
       "      <td>False</td>\n",
       "      <td>False</td>\n",
       "      <td>False</td>\n",
       "      <td>False</td>\n",
       "      <td>False</td>\n",
       "      <td>False</td>\n",
       "      <td>False</td>\n",
       "    </tr>\n",
       "    <tr>\n",
       "      <th>176</th>\n",
       "      <td>False</td>\n",
       "      <td>False</td>\n",
       "      <td>False</td>\n",
       "      <td>False</td>\n",
       "      <td>False</td>\n",
       "      <td>False</td>\n",
       "      <td>False</td>\n",
       "      <td>False</td>\n",
       "      <td>False</td>\n",
       "    </tr>\n",
       "    <tr>\n",
       "      <th>177</th>\n",
       "      <td>False</td>\n",
       "      <td>False</td>\n",
       "      <td>False</td>\n",
       "      <td>False</td>\n",
       "      <td>False</td>\n",
       "      <td>False</td>\n",
       "      <td>False</td>\n",
       "      <td>False</td>\n",
       "      <td>False</td>\n",
       "    </tr>\n",
       "    <tr>\n",
       "      <th>178</th>\n",
       "      <td>False</td>\n",
       "      <td>False</td>\n",
       "      <td>False</td>\n",
       "      <td>False</td>\n",
       "      <td>False</td>\n",
       "      <td>False</td>\n",
       "      <td>False</td>\n",
       "      <td>False</td>\n",
       "      <td>False</td>\n",
       "    </tr>\n",
       "    <tr>\n",
       "      <th>179</th>\n",
       "      <td>False</td>\n",
       "      <td>False</td>\n",
       "      <td>False</td>\n",
       "      <td>False</td>\n",
       "      <td>False</td>\n",
       "      <td>False</td>\n",
       "      <td>False</td>\n",
       "      <td>False</td>\n",
       "      <td>False</td>\n",
       "    </tr>\n",
       "  </tbody>\n",
       "</table>\n",
       "<p>180 rows × 9 columns</p>\n",
       "</div>"
      ],
      "text/plain": [
       "     Product    Age  Gender  Education  MaritalStatus  Usage  Fitness  Income  \\\n",
       "0      False  False   False      False          False  False    False   False   \n",
       "1      False  False   False      False          False  False    False   False   \n",
       "2      False  False   False      False          False  False    False   False   \n",
       "3      False  False   False      False          False  False    False   False   \n",
       "4      False  False   False      False          False  False    False   False   \n",
       "..       ...    ...     ...        ...            ...    ...      ...     ...   \n",
       "175    False  False   False      False          False  False    False   False   \n",
       "176    False  False   False      False          False  False    False   False   \n",
       "177    False  False   False      False          False  False    False   False   \n",
       "178    False  False   False      False          False  False    False   False   \n",
       "179    False  False   False      False          False  False    False   False   \n",
       "\n",
       "     Miles  \n",
       "0    False  \n",
       "1    False  \n",
       "2    False  \n",
       "3    False  \n",
       "4    False  \n",
       "..     ...  \n",
       "175  False  \n",
       "176  False  \n",
       "177  False  \n",
       "178  False  \n",
       "179  False  \n",
       "\n",
       "[180 rows x 9 columns]"
      ]
     },
     "execution_count": 5,
     "metadata": {},
     "output_type": "execute_result"
    }
   ],
   "source": [
    "df.isna()"
   ]
  },
  {
   "cell_type": "code",
   "execution_count": 6,
   "id": "2e4040b4",
   "metadata": {},
   "outputs": [
    {
     "data": {
      "text/plain": [
       "Product          0\n",
       "Age              0\n",
       "Gender           0\n",
       "Education        0\n",
       "MaritalStatus    0\n",
       "Usage            0\n",
       "Fitness          0\n",
       "Income           0\n",
       "Miles            0\n",
       "dtype: int64"
      ]
     },
     "execution_count": 6,
     "metadata": {},
     "output_type": "execute_result"
    }
   ],
   "source": [
    "df.isna().sum()"
   ]
  },
  {
   "cell_type": "code",
   "execution_count": 7,
   "id": "21848535",
   "metadata": {},
   "outputs": [
    {
     "data": {
      "text/plain": [
       "Product          0\n",
       "Age              0\n",
       "Gender           0\n",
       "Education        0\n",
       "MaritalStatus    0\n",
       "Usage            0\n",
       "Fitness          0\n",
       "Income           0\n",
       "Miles            0\n",
       "dtype: int64"
      ]
     },
     "execution_count": 7,
     "metadata": {},
     "output_type": "execute_result"
    }
   ],
   "source": [
    "df.isnull().sum()"
   ]
  },
  {
   "cell_type": "markdown",
   "id": "7a946120",
   "metadata": {},
   "source": [
    "We can clearly see for the above that our dataset does not contains any null or nan values. \n",
    "\n",
    "Its time to check the unique values. "
   ]
  },
  {
   "cell_type": "code",
   "execution_count": 8,
   "id": "ae593264",
   "metadata": {},
   "outputs": [
    {
     "data": {
      "text/plain": [
       "Product           3\n",
       "Age              32\n",
       "Gender            2\n",
       "Education         8\n",
       "MaritalStatus     2\n",
       "Usage             6\n",
       "Fitness           5\n",
       "Income           62\n",
       "Miles            37\n",
       "dtype: int64"
      ]
     },
     "execution_count": 8,
     "metadata": {},
     "output_type": "execute_result"
    }
   ],
   "source": [
    "df.nunique()"
   ]
  },
  {
   "cell_type": "code",
   "execution_count": 9,
   "id": "e3bfca20",
   "metadata": {},
   "outputs": [
    {
     "data": {
      "text/plain": [
       "Product  Age  Gender  Education  MaritalStatus  Usage  Fitness  Income  Miles\n",
       "KP781    48   Male    18         Partnered      4      5        95508   180      1\n",
       "KP281    36   Male    12         Single         4      3        44343   94       1\n",
       "         35   Female  18         Single         3      3        67083   85       1\n",
       "                      16         Partnered      3      3        60261   94       1\n",
       "         34   Male    16         Single         4      5        51165   169      1\n",
       "                                                                                ..\n",
       "KP481    32   Male    16         Partnered      3      3        53439   95       1\n",
       "         31   Male    16         Partnered      3      3        52302   95       1\n",
       "              Female  18         Single         2      1        65220   21       1\n",
       "                      16         Partnered      2      3        51165   64       1\n",
       "KP281    18   Male    14         Single         3      4        29562   112      1\n",
       "Length: 180, dtype: int64"
      ]
     },
     "execution_count": 9,
     "metadata": {},
     "output_type": "execute_result"
    }
   ],
   "source": [
    "df.value_counts()"
   ]
  },
  {
   "cell_type": "code",
   "execution_count": 10,
   "id": "d3c92181",
   "metadata": {},
   "outputs": [],
   "source": [
    "ans = df.copy()           # Made a copy of the dataset for the safe side "
   ]
  },
  {
   "cell_type": "code",
   "execution_count": 11,
   "id": "02ab3999",
   "metadata": {},
   "outputs": [
    {
     "data": {
      "text/html": [
       "<div>\n",
       "<style scoped>\n",
       "    .dataframe tbody tr th:only-of-type {\n",
       "        vertical-align: middle;\n",
       "    }\n",
       "\n",
       "    .dataframe tbody tr th {\n",
       "        vertical-align: top;\n",
       "    }\n",
       "\n",
       "    .dataframe thead th {\n",
       "        text-align: right;\n",
       "    }\n",
       "</style>\n",
       "<table border=\"1\" class=\"dataframe\">\n",
       "  <thead>\n",
       "    <tr style=\"text-align: right;\">\n",
       "      <th></th>\n",
       "      <th>Product</th>\n",
       "      <th>Age</th>\n",
       "      <th>Gender</th>\n",
       "      <th>Education</th>\n",
       "      <th>MaritalStatus</th>\n",
       "      <th>Usage</th>\n",
       "      <th>Fitness</th>\n",
       "      <th>Income</th>\n",
       "      <th>Miles</th>\n",
       "    </tr>\n",
       "  </thead>\n",
       "  <tbody>\n",
       "    <tr>\n",
       "      <th>count</th>\n",
       "      <td>180</td>\n",
       "      <td>180.000000</td>\n",
       "      <td>180</td>\n",
       "      <td>180.000000</td>\n",
       "      <td>180</td>\n",
       "      <td>180.000000</td>\n",
       "      <td>180.000000</td>\n",
       "      <td>180.000000</td>\n",
       "      <td>180.000000</td>\n",
       "    </tr>\n",
       "    <tr>\n",
       "      <th>unique</th>\n",
       "      <td>3</td>\n",
       "      <td>NaN</td>\n",
       "      <td>2</td>\n",
       "      <td>NaN</td>\n",
       "      <td>2</td>\n",
       "      <td>NaN</td>\n",
       "      <td>NaN</td>\n",
       "      <td>NaN</td>\n",
       "      <td>NaN</td>\n",
       "    </tr>\n",
       "    <tr>\n",
       "      <th>top</th>\n",
       "      <td>KP281</td>\n",
       "      <td>NaN</td>\n",
       "      <td>Male</td>\n",
       "      <td>NaN</td>\n",
       "      <td>Partnered</td>\n",
       "      <td>NaN</td>\n",
       "      <td>NaN</td>\n",
       "      <td>NaN</td>\n",
       "      <td>NaN</td>\n",
       "    </tr>\n",
       "    <tr>\n",
       "      <th>freq</th>\n",
       "      <td>80</td>\n",
       "      <td>NaN</td>\n",
       "      <td>104</td>\n",
       "      <td>NaN</td>\n",
       "      <td>107</td>\n",
       "      <td>NaN</td>\n",
       "      <td>NaN</td>\n",
       "      <td>NaN</td>\n",
       "      <td>NaN</td>\n",
       "    </tr>\n",
       "    <tr>\n",
       "      <th>mean</th>\n",
       "      <td>NaN</td>\n",
       "      <td>28.788889</td>\n",
       "      <td>NaN</td>\n",
       "      <td>15.572222</td>\n",
       "      <td>NaN</td>\n",
       "      <td>3.455556</td>\n",
       "      <td>3.311111</td>\n",
       "      <td>53719.577778</td>\n",
       "      <td>103.194444</td>\n",
       "    </tr>\n",
       "    <tr>\n",
       "      <th>std</th>\n",
       "      <td>NaN</td>\n",
       "      <td>6.943498</td>\n",
       "      <td>NaN</td>\n",
       "      <td>1.617055</td>\n",
       "      <td>NaN</td>\n",
       "      <td>1.084797</td>\n",
       "      <td>0.958869</td>\n",
       "      <td>16506.684226</td>\n",
       "      <td>51.863605</td>\n",
       "    </tr>\n",
       "    <tr>\n",
       "      <th>min</th>\n",
       "      <td>NaN</td>\n",
       "      <td>18.000000</td>\n",
       "      <td>NaN</td>\n",
       "      <td>12.000000</td>\n",
       "      <td>NaN</td>\n",
       "      <td>2.000000</td>\n",
       "      <td>1.000000</td>\n",
       "      <td>29562.000000</td>\n",
       "      <td>21.000000</td>\n",
       "    </tr>\n",
       "    <tr>\n",
       "      <th>25%</th>\n",
       "      <td>NaN</td>\n",
       "      <td>24.000000</td>\n",
       "      <td>NaN</td>\n",
       "      <td>14.000000</td>\n",
       "      <td>NaN</td>\n",
       "      <td>3.000000</td>\n",
       "      <td>3.000000</td>\n",
       "      <td>44058.750000</td>\n",
       "      <td>66.000000</td>\n",
       "    </tr>\n",
       "    <tr>\n",
       "      <th>50%</th>\n",
       "      <td>NaN</td>\n",
       "      <td>26.000000</td>\n",
       "      <td>NaN</td>\n",
       "      <td>16.000000</td>\n",
       "      <td>NaN</td>\n",
       "      <td>3.000000</td>\n",
       "      <td>3.000000</td>\n",
       "      <td>50596.500000</td>\n",
       "      <td>94.000000</td>\n",
       "    </tr>\n",
       "    <tr>\n",
       "      <th>75%</th>\n",
       "      <td>NaN</td>\n",
       "      <td>33.000000</td>\n",
       "      <td>NaN</td>\n",
       "      <td>16.000000</td>\n",
       "      <td>NaN</td>\n",
       "      <td>4.000000</td>\n",
       "      <td>4.000000</td>\n",
       "      <td>58668.000000</td>\n",
       "      <td>114.750000</td>\n",
       "    </tr>\n",
       "    <tr>\n",
       "      <th>max</th>\n",
       "      <td>NaN</td>\n",
       "      <td>50.000000</td>\n",
       "      <td>NaN</td>\n",
       "      <td>21.000000</td>\n",
       "      <td>NaN</td>\n",
       "      <td>7.000000</td>\n",
       "      <td>5.000000</td>\n",
       "      <td>104581.000000</td>\n",
       "      <td>360.000000</td>\n",
       "    </tr>\n",
       "  </tbody>\n",
       "</table>\n",
       "</div>"
      ],
      "text/plain": [
       "       Product         Age Gender   Education MaritalStatus       Usage  \\\n",
       "count      180  180.000000    180  180.000000           180  180.000000   \n",
       "unique       3         NaN      2         NaN             2         NaN   \n",
       "top      KP281         NaN   Male         NaN     Partnered         NaN   \n",
       "freq        80         NaN    104         NaN           107         NaN   \n",
       "mean       NaN   28.788889    NaN   15.572222           NaN    3.455556   \n",
       "std        NaN    6.943498    NaN    1.617055           NaN    1.084797   \n",
       "min        NaN   18.000000    NaN   12.000000           NaN    2.000000   \n",
       "25%        NaN   24.000000    NaN   14.000000           NaN    3.000000   \n",
       "50%        NaN   26.000000    NaN   16.000000           NaN    3.000000   \n",
       "75%        NaN   33.000000    NaN   16.000000           NaN    4.000000   \n",
       "max        NaN   50.000000    NaN   21.000000           NaN    7.000000   \n",
       "\n",
       "           Fitness         Income       Miles  \n",
       "count   180.000000     180.000000  180.000000  \n",
       "unique         NaN            NaN         NaN  \n",
       "top            NaN            NaN         NaN  \n",
       "freq           NaN            NaN         NaN  \n",
       "mean      3.311111   53719.577778  103.194444  \n",
       "std       0.958869   16506.684226   51.863605  \n",
       "min       1.000000   29562.000000   21.000000  \n",
       "25%       3.000000   44058.750000   66.000000  \n",
       "50%       3.000000   50596.500000   94.000000  \n",
       "75%       4.000000   58668.000000  114.750000  \n",
       "max       5.000000  104581.000000  360.000000  "
      ]
     },
     "execution_count": 11,
     "metadata": {},
     "output_type": "execute_result"
    }
   ],
   "source": [
    "df.describe(include = \"all\")"
   ]
  },
  {
   "cell_type": "markdown",
   "id": "8d04886e",
   "metadata": {},
   "source": [
    "# Inferences \n",
    ".Dataset has no null values.\n",
    "\n",
    ".There are 3 unique Products in the dataset.\n",
    "\n",
    ".The most frequent product is \"KP281\".\n",
    "\n",
    ".Minimum & Maximum age of the person is 18 & 50, mean is 28.79 and 75% of persons have age less than or equal to 33.\n",
    "\n",
    ".Most of the people are having 16 years of education i.e. 75% of persons are having education <= 16 years.\n",
    "\n",
    ".The maximum income is 104581 and the minimum income is 29562.\n",
    "\n",
    ".Standard deviation for Income & Miles is very high. These variables might have the outliers in it."
   ]
  },
  {
   "cell_type": "code",
   "execution_count": 12,
   "id": "cb03b528",
   "metadata": {},
   "outputs": [
    {
     "data": {
      "text/plain": [
       "array(['KP281', 'KP481', 'KP781'], dtype=object)"
      ]
     },
     "execution_count": 12,
     "metadata": {},
     "output_type": "execute_result"
    }
   ],
   "source": [
    "df[\"Product\"].unique()"
   ]
  },
  {
   "cell_type": "markdown",
   "id": "d513d183",
   "metadata": {},
   "source": [
    "Its time to understand the Quantitative variables \n",
    "Age , Education , Usage , Fitness , Income , Miles  "
   ]
  },
  {
   "cell_type": "code",
   "execution_count": 13,
   "id": "0577b4b2",
   "metadata": {},
   "outputs": [
    {
     "data": {
      "image/png": "[encoded data removed]",
      "text/plain": [
       "<Figure size 720x720 with 6 Axes>"
      ]
     },
     "metadata": {
      "needs_background": "light"
     },
     "output_type": "display_data"
    }
   ],
   "source": [
    "fig, axis = plt.subplots(nrows=3, ncols=2, figsize=(10, 10))\n",
    "\n",
    "sns.histplot(data=df, x=\"Age\", kde=True, ax=axis[0,0])\n",
    "sns.histplot(data=df, x=\"Education\", kde=True, ax=axis[0,1])\n",
    "sns.histplot(data=df, x=\"Usage\", kde=True, ax=axis[1,0])\n",
    "sns.histplot(data=df, x=\"Fitness\", kde=True, ax=axis[1,1])\n",
    "sns.histplot(data=df, x=\"Income\", kde=True, ax=axis[2,0])\n",
    "sns.histplot(data=df, x=\"Miles\", kde=True, ax=axis[2,1])\n",
    "plt.show()"
   ]
  },
  {
   "cell_type": "markdown",
   "id": "9b07d123",
   "metadata": {},
   "source": [
    "Time to check the outliers by plotting boxplot and will see that which quantitative variable contains more number of outliers."
   ]
  },
  {
   "cell_type": "code",
   "execution_count": 14,
   "id": "607e05ff",
   "metadata": {},
   "outputs": [
    {
     "data": {
      "image/png": "[encoded data removed]",
      "text/plain": [
       "<Figure size 720x720 with 6 Axes>"
      ]
     },
     "metadata": {
      "needs_background": "light"
     },
     "output_type": "display_data"
    }
   ],
   "source": [
    "fig, axis = plt.subplots(nrows=3, ncols=2, figsize=(10, 10))\n",
    "\n",
    "sns.boxplot(data=df, x=df[\"Age\"], ax=axis[0,0] , color=\"r\")\n",
    "sns.boxplot(data=df, x=df[\"Education\"],ax=axis[0,1] , color= \"g\")\n",
    "sns.boxplot(data=df, x=df[\"Usage\"], ax=axis[1,0] , color = \"b\")\n",
    "sns.boxplot(data=df, x=df[\"Fitness\"], ax=axis[1,1] , color = \"y\")\n",
    "sns.boxplot(data=df, x=df[\"Income\"], ax=axis[2,0] , color = \"m\")\n",
    "sns.boxplot(data=df, x=df[\"Miles\"], ax=axis[2,1] , color = \"c\")\n",
    "plt.show()"
   ]
  },
  {
   "cell_type": "markdown",
   "id": "75642bec",
   "metadata": {},
   "source": [
    "# Observations\n",
    "\n",
    ". It is clearly showing that Income and Miles have more number of outliers as campared to age , usage , fitness and Education.\n",
    "\n"
   ]
  },
  {
   "cell_type": "markdown",
   "id": "e2f99a8d",
   "metadata": {},
   "source": [
    "# Lets check the Qualitative variables \n",
    "1 . Product \n",
    "2 . Gender \n",
    "3 . Martialstatus "
   ]
  },
  {
   "cell_type": "code",
   "execution_count": 15,
   "id": "309f6b4d",
   "metadata": {
    "scrolled": true
   },
   "outputs": [
    {
     "data": {
      "image/png": "[encoded data removed]",
      "text/plain": [
       "<Figure size 1080x432 with 3 Axes>"
      ]
     },
     "metadata": {
      "needs_background": "light"
     },
     "output_type": "display_data"
    }
   ],
   "source": [
    "fig, axis = plt.subplots(nrows=1, ncols=3, figsize=(15, 6))\n",
    "sns.countplot(data=df, x='Product', ax=axis[0])\n",
    "sns.countplot(data=df, x='Gender', ax=axis[1])\n",
    "sns.countplot(data=df, x='MaritalStatus', ax=axis[2])\n",
    "plt.show()"
   ]
  },
  {
   "cell_type": "code",
   "execution_count": 16,
   "id": "d395613b",
   "metadata": {},
   "outputs": [
    {
     "data": {
      "text/plain": [
       "KP281    0.444444\n",
       "KP481    0.333333\n",
       "KP781    0.222222\n",
       "Name: Product, dtype: float64"
      ]
     },
     "execution_count": 16,
     "metadata": {},
     "output_type": "execute_result"
    }
   ],
   "source": [
    "df[\"Product\"].value_counts()/len(df)"
   ]
  },
  {
   "cell_type": "code",
   "execution_count": 17,
   "id": "632c21e4",
   "metadata": {},
   "outputs": [
    {
     "data": {
      "text/plain": [
       "Male      0.577778\n",
       "Female    0.422222\n",
       "Name: Gender, dtype: float64"
      ]
     },
     "execution_count": 17,
     "metadata": {},
     "output_type": "execute_result"
    }
   ],
   "source": [
    "df[\"Gender\"].value_counts()/len(df)"
   ]
  },
  {
   "cell_type": "code",
   "execution_count": 18,
   "id": "f0e184cd",
   "metadata": {},
   "outputs": [
    {
     "data": {
      "text/plain": [
       "Partnered    0.594444\n",
       "Single       0.405556\n",
       "Name: MaritalStatus, dtype: float64"
      ]
     },
     "execution_count": 18,
     "metadata": {},
     "output_type": "execute_result"
    }
   ],
   "source": [
    "df[\"MaritalStatus\"].value_counts()/len(df)"
   ]
  },
  {
   "cell_type": "markdown",
   "id": "d00c1716",
   "metadata": {},
   "source": [
    "# Observations \n",
    "1 . KP281 is the most frequent product \n",
    "\n",
    "2 . Count of Males are more as compared to Females \n",
    "\n",
    "3 . Count of Singles are less as campared to Partnered\n",
    "\n",
    "4 . 44.44% customers have purchased KP281 , 33.33% customers have purchases KP481 , 22.22% customers have purchased KP781\n",
    "\n",
    "5 . 57.77% of the customers are Male\n",
    "\n",
    "6 . 59.44% of the customers are Partnered"
   ]
  },
  {
   "cell_type": "markdown",
   "id": "286d59c8",
   "metadata": {},
   "source": [
    "# Bivariate Analysis "
   ]
  },
  {
   "cell_type": "markdown",
   "id": "2b9686a8",
   "metadata": {},
   "source": [
    "Lets see that what are the impacts of Gender and MartialStatus on the Product. "
   ]
  },
  {
   "cell_type": "code",
   "execution_count": 19,
   "id": "ae893074",
   "metadata": {},
   "outputs": [
    {
     "data": {
      "image/png": "[encoded data removed]",
      "text/plain": [
       "<Figure size 432x288 with 1 Axes>"
      ]
     },
     "metadata": {
      "needs_background": "light"
     },
     "output_type": "display_data"
    }
   ],
   "source": [
    "sns.countplot(data = df , x = df[\"Product\"] , hue = \"Gender\")\n",
    "plt.title(\"Products vs Gender\")\n",
    "plt.show()"
   ]
  },
  {
   "cell_type": "code",
   "execution_count": 20,
   "id": "3ae0b2e9",
   "metadata": {},
   "outputs": [
    {
     "data": {
      "image/png": "[encoded data removed]",
      "text/plain": [
       "<Figure size 432x288 with 1 Axes>"
      ]
     },
     "metadata": {
      "needs_background": "light"
     },
     "output_type": "display_data"
    }
   ],
   "source": [
    "sns.countplot(data = df , x = df[\"Product\"] , hue = \"MaritalStatus\")\n",
    "plt.title(\"Product vs MaritalStatus\")\n",
    "plt.show()"
   ]
  },
  {
   "cell_type": "markdown",
   "id": "ab39695e",
   "metadata": {},
   "source": [
    "# Observations\n",
    "\n",
    "1 . Equal number of males and females purchased the product KP281.However, males are the dominant in all the three products(Prducts vs Gender).\n",
    "\n",
    "2 . Customer who is Partnered, is more likely to purchase the product."
   ]
  },
  {
   "cell_type": "markdown",
   "id": "c36e48f7",
   "metadata": {},
   "source": [
    "Lets check for the quantitative variables have any affect on the purchased products."
   ]
  },
  {
   "cell_type": "code",
   "execution_count": 21,
   "id": "9279c105",
   "metadata": {},
   "outputs": [
    {
     "data": {
      "image/png": "[encoded data removed]",
      "text/plain": [
       "<Figure size 1080x720 with 6 Axes>"
      ]
     },
     "metadata": {
      "needs_background": "light"
     },
     "output_type": "display_data"
    }
   ],
   "source": [
    "\n",
    "fig, axis = plt.subplots(nrows=3, ncols=2, figsize=(15, 10))\n",
    "sns.boxplot(data=df, x=df[\"Product\"], y = df[\"Age\"] , ax=axis[0,0] , color= \"g\")\n",
    "sns.boxplot(data=df, x=df[\"Product\"], y = df[\"Education\"] , ax=axis[0,1] , color = \"b\")\n",
    "sns.boxplot(data=df, x=df[\"Product\"], y = df[\"Usage\"],  ax=axis[1,0] , color = \"y\")\n",
    "sns.boxplot(data=df, x=df[\"Product\"], y = df[\"Fitness\"] , ax=axis[1,1] , color = \"m\")\n",
    "sns.boxplot(data=df, x=df[\"Product\"], y = df[\"Income\"],  ax=axis[2,0] , color = \"c\")\n",
    "sns.boxplot(data = df , x = df[\"Product\"] , y = df[\"Miles\"], ax = axis[2,1] , color = \"r\")\n",
    "plt.show()"
   ]
  },
  {
   "cell_type": "markdown",
   "id": "1dd776a8",
   "metadata": {},
   "source": [
    "# Observations\n",
    "\n",
    "1 . In the first plot of Product vs Age, it is showin g that the median od KP281 and KP481 are equal.\n",
    "\n",
    "2 . In the second plot of Product vs Education , it is showing that the five number summary is same for KP281 and KP481 and customers whose Education is greater than 16, have more chances to purchase the KP781 product.\n",
    "\n",
    "3 . Customers who are planning to use the treadmill greater than 4 times a week, are more likely to purchase the KP781 product.\n",
    "\n",
    "4 . The more the customer is fit (fitness >= 3), higher the chances of the customer to purchase the KP781 product.\n",
    "\n",
    "5 . Customers whose income greater than or equal to(income >= 6000) are likely to purchase KP781.\n",
    "\n",
    "6 . If a customer anticipates to run/walk greater than 120 miles are likely to purchase KP781 product."
   ]
  },
  {
   "cell_type": "markdown",
   "id": "73223434",
   "metadata": {},
   "source": [
    "# Multivariate Analysis \n",
    "\n",
    "It is time to witness the effect of quantitative and qualitative variables on the Product. "
   ]
  },
  {
   "cell_type": "code",
   "execution_count": 22,
   "id": "34972e2f",
   "metadata": {},
   "outputs": [
    {
     "data": {
      "image/png": "[encoded data removed]",
      "text/plain": [
       "<Figure size 1080x720 with 6 Axes>"
      ]
     },
     "metadata": {
      "needs_background": "light"
     },
     "output_type": "display_data"
    }
   ],
   "source": [
    "fig, axis = plt.subplots(nrows=3, ncols=2, figsize=(15, 10))\n",
    "sns.boxplot(data = df , x = df[\"Gender\"] , y = df[\"Age\"] , hue = \"Product\" , ax = axis[0,0])\n",
    "sns.boxplot(data = df , x = df[\"Gender\"] , y = df[\"Education\"] , hue = \"Product\" , ax = axis[0,1])\n",
    "sns.boxplot(data = df , x = df[\"Gender\"] , y = df[\"Usage\"] , hue = \"Product\" , ax = axis[1,0])\n",
    "sns.boxplot(data = df , x = df[\"Gender\"] , y = df[\"Fitness\"] , hue = \"Product\" , ax = axis[1,1])\n",
    "sns.boxplot(data = df , x = df[\"Gender\"] , y = df[\"Income\"] , hue = \"Product\" , ax = axis[2,0])\n",
    "sns.boxplot(data = df , x = df[\"Gender\"] , y = df[\"Miles\"] , hue = \"Product\" , ax = axis[2,1])\n",
    "plt.show()"
   ]
  },
  {
   "cell_type": "markdown",
   "id": "9768f5c0",
   "metadata": {},
   "source": [
    "# Observations \n",
    "\n",
    "1 . Females who are planning to do exercise 3-4 times in a week are likely to purchase KP481. \n",
    "\n",
    "2 . Males and females whose annual (income >= 60000) are planning to purchase KP781 modwl.\n",
    "\n",
    "3 . Females who go for a walk/run between 125 to 200 miles each weel are likely to purchase KP781."
   ]
  },
  {
   "cell_type": "code",
   "execution_count": 23,
   "id": "eb55f27e",
   "metadata": {},
   "outputs": [
    {
     "data": {
      "text/html": [
       "<div>\n",
       "<style scoped>\n",
       "    .dataframe tbody tr th:only-of-type {\n",
       "        vertical-align: middle;\n",
       "    }\n",
       "\n",
       "    .dataframe tbody tr th {\n",
       "        vertical-align: top;\n",
       "    }\n",
       "\n",
       "    .dataframe thead th {\n",
       "        text-align: right;\n",
       "    }\n",
       "</style>\n",
       "<table border=\"1\" class=\"dataframe\">\n",
       "  <thead>\n",
       "    <tr style=\"text-align: right;\">\n",
       "      <th></th>\n",
       "      <th>Product</th>\n",
       "      <th>Age</th>\n",
       "      <th>Gender</th>\n",
       "      <th>Education</th>\n",
       "      <th>MaritalStatus</th>\n",
       "      <th>Usage</th>\n",
       "      <th>Fitness</th>\n",
       "      <th>Income</th>\n",
       "      <th>Miles</th>\n",
       "    </tr>\n",
       "  </thead>\n",
       "  <tbody>\n",
       "    <tr>\n",
       "      <th>0</th>\n",
       "      <td>KP281</td>\n",
       "      <td>18</td>\n",
       "      <td>Male</td>\n",
       "      <td>14</td>\n",
       "      <td>Single</td>\n",
       "      <td>3</td>\n",
       "      <td>4</td>\n",
       "      <td>29562</td>\n",
       "      <td>112</td>\n",
       "    </tr>\n",
       "    <tr>\n",
       "      <th>1</th>\n",
       "      <td>KP281</td>\n",
       "      <td>19</td>\n",
       "      <td>Male</td>\n",
       "      <td>15</td>\n",
       "      <td>Single</td>\n",
       "      <td>2</td>\n",
       "      <td>3</td>\n",
       "      <td>31836</td>\n",
       "      <td>75</td>\n",
       "    </tr>\n",
       "    <tr>\n",
       "      <th>2</th>\n",
       "      <td>KP281</td>\n",
       "      <td>19</td>\n",
       "      <td>Female</td>\n",
       "      <td>14</td>\n",
       "      <td>Partnered</td>\n",
       "      <td>4</td>\n",
       "      <td>3</td>\n",
       "      <td>30699</td>\n",
       "      <td>66</td>\n",
       "    </tr>\n",
       "    <tr>\n",
       "      <th>3</th>\n",
       "      <td>KP281</td>\n",
       "      <td>19</td>\n",
       "      <td>Male</td>\n",
       "      <td>12</td>\n",
       "      <td>Single</td>\n",
       "      <td>3</td>\n",
       "      <td>3</td>\n",
       "      <td>32973</td>\n",
       "      <td>85</td>\n",
       "    </tr>\n",
       "    <tr>\n",
       "      <th>4</th>\n",
       "      <td>KP281</td>\n",
       "      <td>20</td>\n",
       "      <td>Male</td>\n",
       "      <td>13</td>\n",
       "      <td>Partnered</td>\n",
       "      <td>4</td>\n",
       "      <td>2</td>\n",
       "      <td>35247</td>\n",
       "      <td>47</td>\n",
       "    </tr>\n",
       "  </tbody>\n",
       "</table>\n",
       "</div>"
      ],
      "text/plain": [
       "  Product  Age  Gender  Education MaritalStatus  Usage  Fitness  Income  Miles\n",
       "0   KP281   18    Male         14        Single      3        4   29562    112\n",
       "1   KP281   19    Male         15        Single      2        3   31836     75\n",
       "2   KP281   19  Female         14     Partnered      4        3   30699     66\n",
       "3   KP281   19    Male         12        Single      3        3   32973     85\n",
       "4   KP281   20    Male         13     Partnered      4        2   35247     47"
      ]
     },
     "execution_count": 23,
     "metadata": {},
     "output_type": "execute_result"
    }
   ],
   "source": [
    "df.head()"
   ]
  },
  {
   "cell_type": "markdown",
   "id": "80f2a106",
   "metadata": {},
   "source": [
    "# Marginal and Conditional probablities "
   ]
  },
  {
   "cell_type": "code",
   "execution_count": 24,
   "id": "cd2cf69f",
   "metadata": {},
   "outputs": [
    {
     "data": {
      "text/plain": [
       "KP281    80\n",
       "KP481    60\n",
       "KP781    40\n",
       "Name: Product, dtype: int64"
      ]
     },
     "execution_count": 24,
     "metadata": {},
     "output_type": "execute_result"
    }
   ],
   "source": [
    "df[\"Product\"].value_counts()"
   ]
  },
  {
   "cell_type": "code",
   "execution_count": 25,
   "id": "fbd5d09c",
   "metadata": {},
   "outputs": [
    {
     "data": {
      "text/plain": [
       "KP281    44.444444\n",
       "KP481    33.333333\n",
       "KP781    22.222222\n",
       "Name: Product, dtype: float64"
      ]
     },
     "execution_count": 25,
     "metadata": {},
     "output_type": "execute_result"
    }
   ],
   "source": [
    "df[\"Product\"].value_counts(normalize= True)*100"
   ]
  },
  {
   "cell_type": "markdown",
   "id": "6c1ff055",
   "metadata": {},
   "source": [
    "44.44 % of the customers purchased KP281 , 33.33% have purchased KP481 and 22.22% have purchased KP781. \n"
   ]
  },
  {
   "cell_type": "code",
   "execution_count": 26,
   "id": "59842fa4",
   "metadata": {},
   "outputs": [
    {
     "data": {
      "image/png": "[encoded data removed]",
      "text/plain": [
       "<Figure size 432x288 with 2 Axes>"
      ]
     },
     "metadata": {
      "needs_background": "light"
     },
     "output_type": "display_data"
    }
   ],
   "source": [
    "sns.heatmap(df.corr() , cmap = \"coolwarm\" , annot = True) \n",
    "plt.show()"
   ]
  },
  {
   "cell_type": "markdown",
   "id": "f1f7fbed",
   "metadata": {},
   "source": [
    "Firstly, we need to find the probablities of males and females and after that we will find the probalities of each product given that males and females and this process is called conditional probablity."
   ]
  },
  {
   "cell_type": "code",
   "execution_count": 27,
   "id": "851a0a91",
   "metadata": {},
   "outputs": [
    {
     "data": {
      "text/plain": [
       "Male      0.577778\n",
       "Female    0.422222\n",
       "Name: Gender, dtype: float64"
      ]
     },
     "execution_count": 27,
     "metadata": {},
     "output_type": "execute_result"
    }
   ],
   "source": [
    "df[\"Gender\"].value_counts(normalize = True)"
   ]
  },
  {
   "cell_type": "markdown",
   "id": "e0f117ba",
   "metadata": {},
   "source": [
    "The probablities of males and females are 0.58 and 0.43. "
   ]
  },
  {
   "cell_type": "code",
   "execution_count": 28,
   "id": "08b08ab7",
   "metadata": {},
   "outputs": [
    {
     "data": {
      "text/plain": [
       "KP281    0.444444\n",
       "KP481    0.333333\n",
       "KP781    0.222222\n",
       "Name: Product, dtype: float64"
      ]
     },
     "execution_count": 28,
     "metadata": {},
     "output_type": "execute_result"
    }
   ],
   "source": [
    "df[\"Product\"].value_counts(normalize  = True)"
   ]
  },
  {
   "cell_type": "code",
   "execution_count": 29,
   "id": "8a333510",
   "metadata": {},
   "outputs": [
    {
     "name": "stdout",
     "output_type": "stream",
     "text": [
      "P(Male): 0.58\n",
      "P(Female): 0.42\n",
      "\n",
      "P(KP781/Male): 0.32\n",
      "P(KP481/Male): 0.30\n",
      "P(KP281/Male): 0.38\n",
      "\n",
      "P(KP781/Female): 0.09\n",
      "P(KP481/Female): 0.38\n",
      "P(KP281/Female): 0.53\n",
      "\n"
     ]
    }
   ],
   "source": [
    "def p_of_product_given_gender(gender, print_marginal=False):\n",
    "     \n",
    "    data1 = pd.crosstab(index=df['Gender'], columns=[df['Product']])\n",
    "    p_kp781 = data1['KP781'][gender] / data1.loc[gender].sum()\n",
    "    p_kp481 = data1['KP481'][gender] / data1.loc[gender].sum()\n",
    "    p_kp281 = data1['KP281'][gender] / data1.loc[gender].sum()\n",
    "    \n",
    "    if print_marginal:\n",
    "        print(f\"P(Male): {data1.loc['Male'].sum()/len(df):.2f}\")\n",
    "        print(f\"P(Female): {data1.loc['Female'].sum()/len(df):.2f}\\n\")\n",
    "    \n",
    "    print(f\"P(KP781/{gender}): {p_kp781:.2f}\")\n",
    "    print(f\"P(KP481/{gender}): {p_kp481:.2f}\")\n",
    "    print(f\"P(KP281/{gender}): {p_kp281:.2f}\\n\")\n",
    "    \n",
    "p_of_product_given_gender('Male', True)\n",
    "p_of_product_given_gender('Female')\n"
   ]
  },
  {
   "cell_type": "code",
   "execution_count": 30,
   "id": "7bb8ed1b",
   "metadata": {},
   "outputs": [
    {
     "name": "stdout",
     "output_type": "stream",
     "text": [
      "P(Single): 0.41\n",
      "P(Partnered): 0.59\n",
      "\n",
      "P(KP781/Single): 0.23\n",
      "P(KP481/Single): 0.33\n",
      "P(KP281/Single): 0.44\n",
      "\n",
      "P(KP781/Partnered): 0.21\n",
      "P(KP481/Partnered): 0.34\n",
      "P(KP281/Partnered): 0.45\n",
      "\n"
     ]
    }
   ],
   "source": [
    "\n",
    "def p_prod_given_mstatus(status, print_marginal=False):\n",
    "    if status is not \"Single\" and status is not \"Partnered\":\n",
    "        return \"Invalid marital status value.\"\n",
    "    \n",
    "    df1 = pd.crosstab(index=df['MaritalStatus'], columns=[df['Product']])\n",
    "    p_781 = df1['KP781'][status] / df1.loc[status].sum()\n",
    "    p_481 = df1['KP481'][status] / df1.loc[status].sum()\n",
    "    p_281 = df1['KP281'][status] / df1.loc[status].sum()\n",
    "    \n",
    "    if print_marginal:\n",
    "        print(f\"P(Single): {df1.loc['Single'].sum()/len(df):.2f}\")\n",
    "        print(f\"P(Partnered): {df1.loc['Partnered'].sum()/len(df):.2f}\\n\")\n",
    "    \n",
    "    print(f\"P(KP781/{status}): {p_781:.2f}\")\n",
    "    print(f\"P(KP481/{status}): {p_481:.2f}\")\n",
    "    print(f\"P(KP281/{status}): {p_281:.2f}\\n\")\n",
    "    \n",
    "p_prod_given_mstatus('Single', True)\n",
    "p_prod_given_mstatus('Partnered')"
   ]
  },
  {
   "cell_type": "markdown",
   "id": "b83e510c",
   "metadata": {},
   "source": [
    "# Recommendations "
   ]
  },
  {
   "cell_type": "markdown",
   "id": "edb7c550",
   "metadata": {},
   "source": [
    "1 . KP281 is the most frequent product and that means customere are more likely to purchase product KP281 and company should design more KP282 treadmill. \n",
    "\n",
    "2 . Since there are few customers who do workout 4 times in week have purchased KP781 as compared to other two products. However, company should track and take a survey of few people and calculate the average and by this they can design the product.\n",
    "\n",
    "3 . Customers whose age is starts from 25 to 45 years old are more likely to use KP281 and KP481 instead of KP781. The recommendation will be that company should be designed more KP281 and KP481 models.\n",
    "\n",
    "4 . Females used KP481 more instead of KP281 and KP781.\n",
    "\n",
    "5 . It has been seen as well that the probablity of KP281 is more than others.\n",
    "\n",
    "6 . 38% of the males have purchased KP281 than other products and 53% of the females have also purchased KP281 model.\n",
    "\n",
    "7 . 44% of the singles and 45% of the partnered have purchased KP281 model. It means KP281 must be a cheap in price and more usable as campared to other models. Company should more produced KP281 model in order to grown the buisness. Users are more likely to buy KP281 model. "
   ]
  }
 ],
 "metadata": {
  "kernelspec": {
   "display_name": "Python 3 (ipykernel)",
   "language": "python",
   "name": "python3"
  },
  "language_info": {
   "codemirror_mode": {
    "name": "ipython",
    "version": 3
   },
   "file_extension": ".py",
   "mimetype": "text/x-python",
   "name": "python",
   "nbconvert_exporter": "python",
   "pygments_lexer": "ipython3",
   "version": "3.7.0"
  }
 },
 "nbformat": 4,
 "nbformat_minor": 5
}
